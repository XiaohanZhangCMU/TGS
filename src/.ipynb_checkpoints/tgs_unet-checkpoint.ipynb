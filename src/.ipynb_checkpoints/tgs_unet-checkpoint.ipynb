{
 "cells": [
  {
   "cell_type": "markdown",
   "metadata": {},
   "source": [
    "### Useful links: \n",
    "1) opensource code example for this competition\n",
    "https://github.com/neptune-ml/open-solution-salt-detection  \n",
    "2) very thorough explanation of the problem and sample U-net code\n",
    "https://www.kaggle.com/jesperdramsch/intro-to-seismic-salt-and-how-to-geophysics  \n",
    "3) "
   ]
  },
  {
   "cell_type": "markdown",
   "metadata": {},
   "source": [
    "### Data exploration. "
   ]
  },
  {
   "cell_type": "code",
   "execution_count": null,
   "metadata": {},
   "outputs": [],
   "source": [
    "%matplotlib inline\n",
    "import matplotlib.pyplot as plt \n",
    "import cv2\n",
    "ids = [ '1f1cc6b3a4'] # ,'5b7c160d0d','6c40978ddf','7dfdf6eeb8','7e5a6e5013' ]\n",
    "#plt.figure()\n",
    "\n",
    "for id in ids:\n",
    "    img = cv2.imread('../train/images/'+ str(id)+'.png',0)    \n",
    "    cv2.imshow('hellow',img)\n",
    "    cv2.waitKey(0)\n",
    "    cv2.destroyAllWindows()"
   ]
  },
  {
   "cell_type": "code",
   "execution_count": null,
   "metadata": {},
   "outputs": [],
   "source": [
    "plt.imshow(img)"
   ]
  },
  {
   "cell_type": "markdown",
   "metadata": {},
   "source": [
    "### Data cleaning. \n",
    "1) Find duplicate images\n",
    "2) "
   ]
  },
  {
   "cell_type": "markdown",
   "metadata": {},
   "source": [
    "### Data augumentation.\n",
    "1) "
   ]
  },
  {
   "cell_type": "markdown",
   "metadata": {},
   "source": [
    "#### metric from \n",
    "https://github.com/neptune-ml/open-solution-salt-detection/blob/dev/src/metrics.py"
   ]
  },
  {
   "cell_type": "code",
   "execution_count": null,
   "metadata": {},
   "outputs": [],
   "source": [
    "import numpy as np\n",
    "from tqdm import tqdm\n",
    "from pycocotools import mask as cocomask\n",
    "\n",
    "from .utils import get_segmentations\n",
    "\n",
    "\n",
    "def iou(gt, pred):\n",
    "    gt[gt > 0] = 1.\n",
    "    pred[pred > 0] = 1.\n",
    "    intersection = gt * pred\n",
    "    union = gt + pred\n",
    "    union[union > 0] = 1.\n",
    "    intersection = np.sum(intersection)\n",
    "    union = np.sum(union)\n",
    "    if union == 0:\n",
    "        union = 1e-09\n",
    "    return intersection / union\n",
    "\n",
    "\n",
    "def compute_ious(gt, predictions):\n",
    "    gt_ = get_segmentations(gt)\n",
    "    predictions_ = get_segmentations(predictions)\n",
    "\n",
    "    if len(gt_) == 0 and len(predictions_) == 0:\n",
    "        return np.ones((1, 1))\n",
    "    elif len(gt_) != 0 and len(predictions_) == 0:\n",
    "        return np.zeros((1, 1))\n",
    "    else:\n",
    "        iscrowd = [0 for _ in predictions_]\n",
    "        ious = cocomask.iou(gt_, predictions_, iscrowd)\n",
    "        if not np.array(ious).size:\n",
    "            ious = np.zeros((1, 1))\n",
    "        return ious\n",
    "\n",
    "\n",
    "def compute_precision_at(ious, threshold):\n",
    "    mx1 = np.max(ious, axis=0)\n",
    "    mx2 = np.max(ious, axis=1)\n",
    "    tp = np.sum(mx2 >= threshold)\n",
    "    fp = np.sum(mx2 < threshold)\n",
    "    fn = np.sum(mx1 < threshold)\n",
    "    return float(tp) / (tp + fp + fn)\n",
    "\n",
    "\n",
    "def compute_eval_metric(gt, predictions):\n",
    "    thresholds = [0.5, 0.55, 0.6, 0.65, 0.7, 0.75, 0.8, 0.85, 0.9, 0.95]\n",
    "    ious = compute_ious(gt, predictions)\n",
    "    precisions = [compute_precision_at(ious, th) for th in thresholds]\n",
    "    return sum(precisions) / len(precisions)\n",
    "\n",
    "\n",
    "def intersection_over_union(y_true, y_pred):\n",
    "    ious = []\n",
    "    for y_t, y_p in tqdm(list(zip(y_true, y_pred))):\n",
    "        iou = compute_ious(y_t, y_p)\n",
    "        iou_mean = 1.0 * np.sum(iou) / len(iou)\n",
    "        ious.append(iou_mean)\n",
    "    return np.mean(ious)\n",
    "\n",
    "\n",
    "def intersection_over_union_thresholds(y_true, y_pred):\n",
    "    iouts = []\n",
    "    for y_t, y_p in tqdm(list(zip(y_true, y_pred))):\n",
    "        iouts.append(compute_eval_metric(y_t, y_p))\n",
    "    return np.mean(iouts)"
   ]
  },
  {
   "cell_type": "code",
   "execution_count": null,
   "metadata": {},
   "outputs": [],
   "source": []
  }
 ],
 "metadata": {
  "kernelspec": {
   "display_name": "Python 3",
   "language": "python",
   "name": "python3"
  },
  "language_info": {
   "codemirror_mode": {
    "name": "ipython",
    "version": 3
   },
   "file_extension": ".py",
   "mimetype": "text/x-python",
   "name": "python",
   "nbconvert_exporter": "python",
   "pygments_lexer": "ipython3",
   "version": "3.6.0"
  }
 },
 "nbformat": 4,
 "nbformat_minor": 2
}
