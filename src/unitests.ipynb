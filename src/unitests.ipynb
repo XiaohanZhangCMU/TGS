{
 "cells": [
  {
   "cell_type": "markdown",
   "metadata": {},
   "source": [
    "### ------------------------------------------------------All testings below------------------------------------------------------\n",
    "#### TGS_Dataset and data augmentation operations  \n",
    "1) Loop through train and test examples. The numbers should be consistent with competition website  \n",
    "2) Returned images from all augmented images need to be valid  \n",
    "3) Randomly select 10 images to examine by eyes."
   ]
  },
  {
   "cell_type": "markdown",
   "metadata": {},
   "source": [
    "#### Randomly get K elements from a list  \n",
    "Essentially, it fills result with first K element of list, then replace each of the elements with equal probability\n",
    "https://stackoverflow.com/questions/2612648/reservoir-sampling"
   ]
  },
  {
   "cell_type": "code",
   "execution_count": 1,
   "metadata": {},
   "outputs": [],
   "source": [
    "import random\n",
    "def random_subset( iterator, K ):\n",
    "    result = []\n",
    "    N = 0\n",
    "\n",
    "    for item in iterator:\n",
    "        N += 1\n",
    "        if len( result ) < K:\n",
    "            result.append( item )\n",
    "        else:\n",
    "            s = int(random.random() * N)\n",
    "            if s < K:\n",
    "                result[ s ] = item\n",
    "\n",
    "    return result"
   ]
  },
  {
   "cell_type": "code",
   "execution_count": 29,
   "metadata": {},
   "outputs": [
    {
     "ename": "NameError",
     "evalue": "name 'np' is not defined",
     "output_type": "error",
     "traceback": [
      "\u001b[0;31m---------------------------------------------------------------------------\u001b[0m",
      "\u001b[0;31mNameError\u001b[0m                                 Traceback (most recent call last)",
      "\u001b[0;32m<ipython-input-29-2fbc78560011>\u001b[0m in \u001b[0;36m<module>\u001b[0;34m()\u001b[0m\n\u001b[1;32m     16\u001b[0m \u001b[0;31m# img = cv2.cvtColor(img, cv2.COLOR_BGR2RGB) # convert img from one color space to another\u001b[0m\u001b[0;34m\u001b[0m\u001b[0;34m\u001b[0m\u001b[0m\n\u001b[1;32m     17\u001b[0m \u001b[0;31m# img.astype(np.uint8)\u001b[0m\u001b[0;34m\u001b[0m\u001b[0;34m\u001b[0m\u001b[0m\n\u001b[0;32m---> 18\u001b[0;31m \u001b[0mload_image\u001b[0m\u001b[0;34m(\u001b[0m\u001b[0mds\u001b[0m\u001b[0;34m.\u001b[0m\u001b[0mtrain_ids\u001b[0m\u001b[0;34m[\u001b[0m\u001b[0;36m0\u001b[0m\u001b[0;34m]\u001b[0m\u001b[0;34m)\u001b[0m\u001b[0;34m\u001b[0m\u001b[0m\n\u001b[0m\u001b[1;32m     19\u001b[0m \u001b[0;31m# for idx, png_id in enumerate(random_subset(list(range(0,len(ds.train_ids))),Ntests)):\u001b[0m\u001b[0;34m\u001b[0m\u001b[0;34m\u001b[0m\u001b[0m\n\u001b[1;32m     20\u001b[0m \u001b[0;31m#     img  = load_image(ds.train_ids[idx])\u001b[0m\u001b[0;34m\u001b[0m\u001b[0;34m\u001b[0m\u001b[0m\n",
      "\u001b[0;32m~/Library/Mobile Documents/com~apple~CloudDocs/Planet/Codes/Kaggle/TGS/src/tgs_dataset.py\u001b[0m in \u001b[0;36mload_image\u001b[0;34m(path)\u001b[0m\n\u001b[1;32m     18\u001b[0m     \u001b[0mimg\u001b[0m \u001b[0;34m=\u001b[0m \u001b[0mcv2\u001b[0m\u001b[0;34m.\u001b[0m\u001b[0mimread\u001b[0m\u001b[0;34m(\u001b[0m\u001b[0mpath\u001b[0m\u001b[0;34m)\u001b[0m\u001b[0;34m\u001b[0m\u001b[0m\n\u001b[1;32m     19\u001b[0m     \u001b[0mimg\u001b[0m \u001b[0;34m=\u001b[0m \u001b[0mcv2\u001b[0m\u001b[0;34m.\u001b[0m\u001b[0mcopyMakeBorder\u001b[0m\u001b[0;34m(\u001b[0m\u001b[0mimg\u001b[0m\u001b[0;34m,\u001b[0m \u001b[0;36m0\u001b[0m\u001b[0;34m,\u001b[0m \u001b[0;36m0\u001b[0m\u001b[0;34m,\u001b[0m \u001b[0;36m1\u001b[0m\u001b[0;34m,\u001b[0m \u001b[0;36m1\u001b[0m\u001b[0;34m,\u001b[0m \u001b[0mcv2\u001b[0m\u001b[0;34m.\u001b[0m\u001b[0mBORDER_REPLICATE\u001b[0m\u001b[0;34m)\u001b[0m \u001b[0;31m# pad borders using existing col/row\u001b[0m\u001b[0;34m\u001b[0m\u001b[0m\n\u001b[0;32m---> 20\u001b[0;31m     \u001b[0mimg\u001b[0m \u001b[0;34m=\u001b[0m \u001b[0mcv2\u001b[0m\u001b[0;34m.\u001b[0m\u001b[0mcvtColor\u001b[0m\u001b[0;34m(\u001b[0m\u001b[0mimg\u001b[0m\u001b[0;34m,\u001b[0m \u001b[0mcv2\u001b[0m\u001b[0;34m.\u001b[0m\u001b[0mCOLOR_BGR2RGB\u001b[0m\u001b[0;34m)\u001b[0m \u001b[0;31m# convert img from one color space to another\u001b[0m\u001b[0;34m\u001b[0m\u001b[0m\n\u001b[0m\u001b[1;32m     21\u001b[0m     \u001b[0;32mreturn\u001b[0m \u001b[0mimg\u001b[0m\u001b[0;34m.\u001b[0m\u001b[0mastype\u001b[0m\u001b[0;34m(\u001b[0m\u001b[0mnp\u001b[0m\u001b[0;34m.\u001b[0m\u001b[0muint8\u001b[0m\u001b[0;34m)\u001b[0m\u001b[0;34m\u001b[0m\u001b[0m\n\u001b[1;32m     22\u001b[0m \u001b[0;34m\u001b[0m\u001b[0m\n",
      "\u001b[0;31mNameError\u001b[0m: name 'np' is not defined"
     ]
    },
    {
     "data": {
      "text/plain": [
       "<Figure size 1440x720 with 0 Axes>"
      ]
     },
     "metadata": {},
     "output_type": "display_data"
    }
   ],
   "source": [
    "import numpy as np\n",
    "import matplotlib.pyplot as plt\n",
    "from tgs_dataset import * #TGS_Dataset, load_image, load_mask\n",
    "from pathlib import Path\n",
    "\n",
    "ds_root = Path(\"/Users/x/Library/Mobile Documents/com~apple~CloudDocs/Planet/Codes/Kaggle/TGS\")\n",
    "ds = TGS_Dataset(ds_root, to_augment=True)\n",
    "\n",
    "Ntests = 5\n",
    "\n",
    "plt.figure(figsize=(20,10))\n",
    "\n",
    "# import cv2\n",
    "# img = cv2.imread(ds.train_ids[0])\n",
    "# img = cv2.copyMakeBorder(img, 0, 0, 1, 1, cv2.BORDER_REPLICATE) # pad borders using existing col/row\n",
    "# img = cv2.cvtColor(img, cv2.COLOR_BGR2RGB) # convert img from one color space to another\n",
    "# img.astype(np.uint8)\n",
    "load_image(ds.train_ids[0])\n",
    "# for idx, png_id in enumerate(random_subset(list(range(0,len(ds.train_ids))),Ntests)):\n",
    "#     img  = load_image(ds.train_ids[idx])    \n",
    "#     mask = load_mask(mask_ids[idx])\n",
    "#     plt.subplot(1, Ntests*2, 2*idx+1)\n",
    "#     plt.imshow(img)\n",
    "#     plt.subplot(1, Ntests*2, 2*idx+2)\n",
    "#     plt.imshow(mask)"
   ]
  },
  {
   "cell_type": "code",
   "execution_count": 26,
   "metadata": {},
   "outputs": [
    {
     "ename": "NameError",
     "evalue": "name 'train_ids' is not defined",
     "output_type": "error",
     "traceback": [
      "\u001b[0;31m---------------------------------------------------------------------------\u001b[0m",
      "\u001b[0;31mNameError\u001b[0m                                 Traceback (most recent call last)",
      "\u001b[0;32m<ipython-input-26-22b6a1e4b75d>\u001b[0m in \u001b[0;36m<module>\u001b[0;34m()\u001b[0m\n\u001b[1;32m      1\u001b[0m \u001b[0mtid\u001b[0m \u001b[0;34m=\u001b[0m \u001b[0;36m300\u001b[0m\u001b[0;34m\u001b[0m\u001b[0m\n\u001b[0;32m----> 2\u001b[0;31m \u001b[0mimg\u001b[0m \u001b[0;34m=\u001b[0m \u001b[0mload_image\u001b[0m\u001b[0;34m(\u001b[0m\u001b[0mtrain_ids\u001b[0m\u001b[0;34m[\u001b[0m\u001b[0mtid\u001b[0m\u001b[0;34m]\u001b[0m\u001b[0;34m)\u001b[0m\u001b[0;34m\u001b[0m\u001b[0m\n\u001b[0m\u001b[1;32m      3\u001b[0m \u001b[0mmask\u001b[0m \u001b[0;34m=\u001b[0m \u001b[0mload_mask\u001b[0m\u001b[0;34m(\u001b[0m\u001b[0mmask_ids\u001b[0m\u001b[0;34m[\u001b[0m\u001b[0mtid\u001b[0m\u001b[0;34m]\u001b[0m\u001b[0;34m)\u001b[0m\u001b[0;34m\u001b[0m\u001b[0m\n\u001b[1;32m      4\u001b[0m \u001b[0;34m\u001b[0m\u001b[0m\n\u001b[1;32m      5\u001b[0m \u001b[0msalt_pixels\u001b[0m \u001b[0;34m=\u001b[0m \u001b[0;34m(\u001b[0m\u001b[0mcv2\u001b[0m\u001b[0;34m.\u001b[0m\u001b[0mcvtColor\u001b[0m\u001b[0;34m(\u001b[0m\u001b[0mmask\u001b[0m\u001b[0;34m,\u001b[0m \u001b[0mcv2\u001b[0m\u001b[0;34m.\u001b[0m\u001b[0mCOLOR_GRAY2RGB\u001b[0m\u001b[0;34m)\u001b[0m\u001b[0;34m*\u001b[0m\u001b[0mimg\u001b[0m\u001b[0;34m)\u001b[0m\u001b[0;34m.\u001b[0m\u001b[0mastype\u001b[0m\u001b[0;34m(\u001b[0m\u001b[0mnp\u001b[0m\u001b[0;34m.\u001b[0m\u001b[0muint8\u001b[0m\u001b[0;34m)\u001b[0m \u001b[0;31m# convert mask to RGB\u001b[0m\u001b[0;34m\u001b[0m\u001b[0m\n",
      "\u001b[0;31mNameError\u001b[0m: name 'train_ids' is not defined"
     ]
    }
   ],
   "source": [
    "tid = 300\n",
    "img = load_image(train_ids[tid])\n",
    "mask = load_mask(mask_ids[tid])\n",
    "\n",
    "salt_pixels = (cv2.cvtColor(mask, cv2.COLOR_GRAY2RGB)*img).astype(np.uint8) # convert mask to RGB\n",
    "gray_salt = cv2.cvtColor(salt_pixels, cv2.COLOR_RGB2GRAY) # convert RGB salt to gray\n",
    "rgb_gray_salt = cv2.cvtColor(gray_salt, cv2.COLOR_GRAY2RGB) # convert gray to RGB\n",
    "rgb_img = img.copy()\n",
    "rgb_img[rgb_gray_salt>0] = rgb_gray_salt[rgb_gray_salt>0]\n",
    "\n",
    "plt.figure(figsize=(20,10))\n",
    "plt.subplot(1, 6, 1)\n",
    "plt.imshow(img)\n",
    "plt.subplot(1, 6, 2)\n",
    "plt.imshow(mask)\n",
    "plt.subplot(1, 6, 3)\n",
    "plt.imshow(salt_pixels)\n",
    "plt.subplot(1, 6, 4)\n",
    "plt.imshow(gray_salt)\n",
    "plt.subplot(1, 6, 5)\n",
    "plt.imshow(rgb_gray_salt)\n",
    "plt.subplot(1, 6, 6)\n",
    "plt.imshow(rgb_img)\n"
   ]
  },
  {
   "cell_type": "code",
   "execution_count": 4,
   "metadata": {},
   "outputs": [
    {
     "ename": "NameError",
     "evalue": "name 'Path' is not defined",
     "output_type": "error",
     "traceback": [
      "\u001b[0;31m---------------------------------------------------------------------------\u001b[0m",
      "\u001b[0;31mNameError\u001b[0m                                 Traceback (most recent call last)",
      "\u001b[0;32m<ipython-input-4-05bb7cf09eeb>\u001b[0m in \u001b[0;36m<module>\u001b[0;34m()\u001b[0m\n\u001b[1;32m      1\u001b[0m \u001b[0;32mfrom\u001b[0m \u001b[0mtorch\u001b[0m\u001b[0;34m.\u001b[0m\u001b[0mutils\u001b[0m\u001b[0;34m.\u001b[0m\u001b[0mdata\u001b[0m \u001b[0;32mimport\u001b[0m \u001b[0mDataLoader\u001b[0m\u001b[0;34m\u001b[0m\u001b[0m\n\u001b[1;32m      2\u001b[0m \u001b[0;34m\u001b[0m\u001b[0m\n\u001b[0;32m----> 3\u001b[0;31m \u001b[0mds_root\u001b[0m \u001b[0;34m=\u001b[0m \u001b[0mPath\u001b[0m\u001b[0;34m(\u001b[0m\u001b[0;34m\"/Users/x/Library/Mobile Documents/com~apple~CloudDocs/Planet/Codes/Kaggle/TGS\"\u001b[0m\u001b[0;34m)\u001b[0m\u001b[0;34m\u001b[0m\u001b[0m\n\u001b[0m\u001b[1;32m      4\u001b[0m \u001b[0;34m\u001b[0m\u001b[0m\n\u001b[1;32m      5\u001b[0m train_loader = DataLoader(dataset=TGS_Dataset(ds_root, to_augment=True),\n",
      "\u001b[0;31mNameError\u001b[0m: name 'Path' is not defined"
     ]
    }
   ],
   "source": [
    "from torch.utils.data import DataLoader\n",
    "\n",
    "ds_root = Path(\"/Users/x/Library/Mobile Documents/com~apple~CloudDocs/Planet/Codes/Kaggle/TGS\")\n",
    "\n",
    "train_loader = DataLoader(dataset=TGS_Dataset(ds_root, to_augment=True),\n",
    "                          shuffle=True,\n",
    "                          num_workers=1,\n",
    "                          batch_size=128,\n",
    "                          pin_memory=True)\n",
    "\n",
    "#     for batch_idx, (x,y) in enumerate(train_loader):\n",
    "#         if batch_idx < 1:            \n",
    "#             print(x)\n",
    "#             print(y)\n",
    "#     print(\"I am done\")"
   ]
  },
  {
   "cell_type": "markdown",
   "metadata": {},
   "source": [
    "#### Test if training (one step) actually touches any if not all parameters\n"
   ]
  },
  {
   "cell_type": "code",
   "execution_count": 5,
   "metadata": {},
   "outputs": [
    {
     "ename": "SyntaxError",
     "evalue": "invalid syntax (<ipython-input-5-5e86359e0911>, line 4)",
     "output_type": "error",
     "traceback": [
      "\u001b[0;36m  File \u001b[0;32m\"<ipython-input-5-5e86359e0911>\"\u001b[0;36m, line \u001b[0;32m4\u001b[0m\n\u001b[0;31m    model = Model(image)\u001b[0m\n\u001b[0m        ^\u001b[0m\n\u001b[0;31mSyntaxError\u001b[0m\u001b[0;31m:\u001b[0m invalid syntax\n"
     ]
    }
   ],
   "source": [
    "def test_UNet11():\n",
    "    \n",
    "  image = tf.placeholder(tf.float32, (None, 100, 100, 3)\n",
    "  model = Model(image)\n",
    "  sess = tf.Session()\n",
    "  sess.run(tf.global_variables_initializer())\n",
    "  before = sess.run(tf.trainable_variables())\n",
    "  _ = sess.run(model.train, feed_dict={\n",
    "               image: np.ones((1, 100, 100, 3)),\n",
    "               })\n",
    "  after = sess.run(tf.trainable_variables())\n",
    "  for b, a, n in zip(before, after):\n",
    "      # Make sure something changed.\n",
    "      assert (b != a).any()"
   ]
  },
  {
   "cell_type": "markdown",
   "metadata": {},
   "source": [
    "#### Test if loss is ever a zero (should be impossible)"
   ]
  },
  {
   "cell_type": "code",
   "execution_count": 6,
   "metadata": {},
   "outputs": [
    {
     "ename": "SyntaxError",
     "evalue": "invalid syntax (<ipython-input-6-eea37dfe38a2>, line 3)",
     "output_type": "error",
     "traceback": [
      "\u001b[0;36m  File \u001b[0;32m\"<ipython-input-6-eea37dfe38a2>\"\u001b[0;36m, line \u001b[0;32m3\u001b[0m\n\u001b[0;31m    labels = tf.placeholder(tf.int32, None, 1))\u001b[0m\n\u001b[0m                                              ^\u001b[0m\n\u001b[0;31mSyntaxError\u001b[0m\u001b[0;31m:\u001b[0m invalid syntax\n"
     ]
    }
   ],
   "source": [
    "def test_loss():\n",
    "  in_tensor = tf.placeholder(tf.float32, (None, 3))\n",
    "  labels = tf.placeholder(tf.int32, None, 1))\n",
    "  model = Model(in_tensor, labels)\n",
    "  sess = tf.Session()\n",
    "  loss = sess.run(model.loss, feed_dict={\n",
    "    in_tensor:np.ones(1, 3),\n",
    "    labels:[[1]]\n",
    "  })\n",
    "  assert loss != 0"
   ]
  },
  {
   "cell_type": "code",
   "execution_count": 23,
   "metadata": {},
   "outputs": [
    {
     "data": {
      "text/plain": [
       "array([[[131, 131, 131],\n",
       "        [131, 131, 131],\n",
       "        [131, 131, 131],\n",
       "        ...,\n",
       "        [100, 100, 100],\n",
       "        [105, 105, 105],\n",
       "        [105, 105, 105]],\n",
       "\n",
       "       [[131, 131, 131],\n",
       "        [131, 131, 131],\n",
       "        [131, 131, 131],\n",
       "        ...,\n",
       "        [ 89,  89,  89],\n",
       "        [ 95,  95,  95],\n",
       "        [ 95,  95,  95]],\n",
       "\n",
       "       [[135, 135, 135],\n",
       "        [135, 135, 135],\n",
       "        [135, 135, 135],\n",
       "        ...,\n",
       "        [ 81,  81,  81],\n",
       "        [ 86,  86,  86],\n",
       "        [ 86,  86,  86]],\n",
       "\n",
       "       ...,\n",
       "\n",
       "       [[140, 140, 140],\n",
       "        [140, 140, 140],\n",
       "        [144, 144, 144],\n",
       "        ...,\n",
       "        [ 91,  91,  91],\n",
       "        [ 88,  88,  88],\n",
       "        [ 88,  88,  88]],\n",
       "\n",
       "       [[144, 144, 144],\n",
       "        [144, 144, 144],\n",
       "        [141, 141, 141],\n",
       "        ...,\n",
       "        [116, 116, 116],\n",
       "        [113, 113, 113],\n",
       "        [113, 113, 113]],\n",
       "\n",
       "       [[146, 146, 146],\n",
       "        [146, 146, 146],\n",
       "        [137, 137, 137],\n",
       "        ...,\n",
       "        [139, 139, 139],\n",
       "        [139, 139, 139],\n",
       "        [139, 139, 139]]], dtype=uint8)"
      ]
     },
     "execution_count": 23,
     "metadata": {},
     "output_type": "execute_result"
    }
   ],
   "source": [
    "import cv2\n",
    "img = cv2.imread(ds.train_ids[0])\n",
    "img = cv2.copyMakeBorder(img, 0, 0, 1, 1, cv2.BORDER_REPLICATE) # pad borders using existing col/row\n",
    "img = cv2.cvtColor(img, cv2.COLOR_BGR2RGB) # convert img from one color space to another\n",
    "img.astype(np.uint8)"
   ]
  },
  {
   "cell_type": "code",
   "execution_count": null,
   "metadata": {},
   "outputs": [],
   "source": []
  }
 ],
 "metadata": {
  "kernelspec": {
   "display_name": "Python 3",
   "language": "python",
   "name": "python3"
  },
  "language_info": {
   "codemirror_mode": {
    "name": "ipython",
    "version": 3
   },
   "file_extension": ".py",
   "mimetype": "text/x-python",
   "name": "python",
   "nbconvert_exporter": "python",
   "pygments_lexer": "ipython3",
   "version": "3.6.5"
  }
 },
 "nbformat": 4,
 "nbformat_minor": 2
}
